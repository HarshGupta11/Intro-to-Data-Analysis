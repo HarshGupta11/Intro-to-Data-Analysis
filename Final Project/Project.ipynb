{
 "cells": [
  {
   "cell_type": "code",
   "execution_count": 2,
   "metadata": {
    "collapsed": false
   },
   "outputs": [],
   "source": [
    "import pandas as pd\n",
    "import numpy as np\n",
    "import matplotlib.pyplot as plt\n",
    "import matplotlib.ticker as ticker\n",
    "import seaborn as sns\n",
    "import pylab"
   ]
  },
  {
   "cell_type": "code",
   "execution_count": 3,
   "metadata": {
    "collapsed": true
   },
   "outputs": [],
   "source": [
    "titanic_df = pd.read_csv('titanic_data.csv')"
   ]
  },
  {
   "cell_type": "code",
   "execution_count": 4,
   "metadata": {
    "collapsed": false
   },
   "outputs": [
    {
     "name": "stdout",
     "output_type": "stream",
     "text": [
      "   PassengerId  Survived  Pclass  \\\n",
      "0            1         0       3   \n",
      "1            2         1       1   \n",
      "2            3         1       3   \n",
      "3            4         1       1   \n",
      "4            5         0       3   \n",
      "\n",
      "                                                Name     Sex   Age  SibSp  \\\n",
      "0                            Braund, Mr. Owen Harris    male  22.0      1   \n",
      "1  Cumings, Mrs. John Bradley (Florence Briggs Th...  female  38.0      1   \n",
      "2                             Heikkinen, Miss. Laina  female  26.0      0   \n",
      "3       Futrelle, Mrs. Jacques Heath (Lily May Peel)  female  35.0      1   \n",
      "4                           Allen, Mr. William Henry    male  35.0      0   \n",
      "\n",
      "   Parch            Ticket     Fare Cabin Embarked  \n",
      "0      0         A/5 21171   7.2500   NaN        S  \n",
      "1      0          PC 17599  71.2833   C85        C  \n",
      "2      0  STON/O2. 3101282   7.9250   NaN        S  \n",
      "3      0            113803  53.1000  C123        S  \n",
      "4      0            373450   8.0500   NaN        S  \n"
     ]
    }
   ],
   "source": [
    "print titanic_df.head()"
   ]
  },
  {
   "cell_type": "code",
   "execution_count": 5,
   "metadata": {
    "collapsed": false
   },
   "outputs": [
    {
     "name": "stdout",
     "output_type": "stream",
     "text": [
      "            SibSp       Parch\n",
      "count  891.000000  891.000000\n",
      "mean     0.523008    0.381594\n",
      "std      1.102743    0.806057\n",
      "min      0.000000    0.000000\n",
      "25%      0.000000    0.000000\n",
      "50%      0.000000    0.000000\n",
      "75%      1.000000    0.000000\n",
      "max      8.000000    6.000000\n"
     ]
    }
   ],
   "source": [
    "## How many people on average travel with their family?\n",
    "print titanic_df[['SibSp','Parch']].describe()\n",
    "\n",
    "## About 52% people travel with their siblings\n",
    "## About 38% people travel with their parents or children"
   ]
  },
  {
   "cell_type": "code",
   "execution_count": 6,
   "metadata": {
    "collapsed": false
   },
   "outputs": [
    {
     "name": "stdout",
     "output_type": "stream",
     "text": [
      "Pclass\n",
      "1    0.629630\n",
      "2    0.472826\n",
      "3    0.242363\n",
      "Name: Survived, dtype: float64\n",
      "Int64Index([1, 2, 3], dtype='int64', name=u'Pclass')\n",
      "Figure(640x436)\n",
      "Axes(0.125,0.1;0.775x0.8)\n"
     ]
    }
   ],
   "source": [
    "series = titanic_df.groupby('Pclass')['Survived'].mean()\n",
    "print series\n",
    "print series.index\n",
    "#pylab.figure()\n",
    "fig, ax = plt.subplots()\n",
    "ax.xaxis.set_major_locator(ticker.MaxNLocator(integer=True))\n",
    "plt.bar(series.index, series, align='center', color='green')\n",
    "plt.title('People Survived Vs Passenger Class')\n",
    "plt.xlabel('Passenger Class')\n",
    "plt.ylabel('Average Number of People Survived')\n",
    "plt.show()\n",
    "print fig\n",
    "print ax"
   ]
  },
  {
   "cell_type": "code",
   "execution_count": 7,
   "metadata": {
    "collapsed": false
   },
   "outputs": [
    {
     "name": "stdout",
     "output_type": "stream",
     "text": [
      "Age\n",
      "0.42     1.000000\n",
      "0.67     1.000000\n",
      "0.75     1.000000\n",
      "0.83     1.000000\n",
      "0.92     1.000000\n",
      "1.00     0.714286\n",
      "2.00     0.300000\n",
      "3.00     0.833333\n",
      "4.00     0.700000\n",
      "5.00     1.000000\n",
      "6.00     0.666667\n",
      "7.00     0.333333\n",
      "8.00     0.500000\n",
      "9.00     0.250000\n",
      "10.00    0.000000\n",
      "11.00    0.250000\n",
      "12.00    1.000000\n",
      "13.00    1.000000\n",
      "14.00    0.500000\n",
      "14.50    0.000000\n",
      "15.00    0.800000\n",
      "16.00    0.352941\n",
      "17.00    0.461538\n",
      "18.00    0.346154\n",
      "19.00    0.360000\n",
      "20.00    0.200000\n",
      "20.50    0.000000\n",
      "21.00    0.208333\n",
      "22.00    0.407407\n",
      "23.00    0.333333\n",
      "           ...   \n",
      "44.00    0.333333\n",
      "45.00    0.416667\n",
      "45.50    0.000000\n",
      "46.00    0.000000\n",
      "47.00    0.111111\n",
      "48.00    0.666667\n",
      "49.00    0.666667\n",
      "50.00    0.500000\n",
      "51.00    0.285714\n",
      "52.00    0.500000\n",
      "53.00    1.000000\n",
      "54.00    0.375000\n",
      "55.00    0.500000\n",
      "55.50    0.000000\n",
      "56.00    0.500000\n",
      "57.00    0.000000\n",
      "58.00    0.600000\n",
      "59.00    0.000000\n",
      "60.00    0.500000\n",
      "61.00    0.000000\n",
      "62.00    0.500000\n",
      "63.00    1.000000\n",
      "64.00    0.000000\n",
      "65.00    0.000000\n",
      "66.00    0.000000\n",
      "70.00    0.000000\n",
      "70.50    0.000000\n",
      "71.00    0.000000\n",
      "74.00    0.000000\n",
      "80.00    1.000000\n",
      "Name: Survived, dtype: float64\n"
     ]
    }
   ],
   "source": [
    "#total = titanic_df[titanic_df['Survived'] == 1].groupby('Age')['Survived'].count()\n",
    "series = titanic_df.groupby('Age')['Survived'].mean()\n",
    "#series/=titanic_df[titanic_df['Survived'] == 1]['PassengerId'].count()\n",
    "#series*=100\n",
    "print series\n",
    "#print titanic_df[titanic_df['Survived'] == 1].count()\n",
    "#print total.sum()\n",
    "plt.xlabel(\"Age\")\n",
    "plt.ylabel(\"Survival %\")\n",
    "plt.title(\"Survival pervcentage vs Age of people in Titanic Accident\")\n",
    "series.plot()\n",
    "plt.show()"
   ]
  },
  {
   "cell_type": "code",
   "execution_count": 14,
   "metadata": {
    "collapsed": false
   },
   "outputs": [
    {
     "name": "stdout",
     "output_type": "stream",
     "text": [
      "Embarked  Pclass\n",
      "C         1          85\n",
      "          2          17\n",
      "          3          66\n",
      "Q         1           2\n",
      "          2           3\n",
      "          3          72\n",
      "S         1         127\n",
      "          2         164\n",
      "          3         353\n",
      "Name: PassengerId, dtype: int64\n",
      "MultiIndex(levels=[[u'C', u'Q', u'S'], [1, 2, 3]],\n",
      "           labels=[[0, 0, 0, 1, 1, 1, 2, 2, 2], [0, 1, 2, 0, 1, 2, 0, 1, 2]],\n",
      "           names=[u'Embarked', u'Pclass'])\n",
      "85\n"
     ]
    }
   ],
   "source": [
    "data = titanic_df.groupby(['Embarked','Pclass'])['PassengerId'].count()\n",
    "print data\n",
    "print data.index\n",
    "print data.loc['C'].values[0]\n",
    "\"\"\"plt.bar(data.index, data, align='center', color='green')\n",
    "plt.title('People Survived Vs Passenger Class')\n",
    "plt.xlabel('Passenger Class')\n",
    "plt.ylabel('Average Number of People Survived')\n",
    "plt.show()\"\"\"\n",
    "#plt.show()\n",
    "N = 3\n",
    "ind = np.arange(N)  # the x locations for the groups\n",
    "width = 0.27       # the width of the bars\n",
    "\n",
    "fig = plt.figure()\n",
    "ax = fig.add_subplot(111)\n",
    "\n",
    "yvals = [data.loc['C'].values[0],data.loc['S'].values[0],data.loc['Q'].values[0]]\n",
    "rects1 = ax.bar(ind, yvals, width, color='r')\n",
    "zvals = [data.loc['C'].values[1],data.loc['S'].values[1],data.loc['Q'].values[1]]\n",
    "rects2 = ax.bar(ind+width, zvals, width, color='g')\n",
    "kvals = [data.loc['C'].values[2],data.loc['S'].values[2],data.loc['Q'].values[2]]\n",
    "rects3 = ax.bar(ind+width*2, kvals, width, color='b')\n",
    "\n",
    "ax.set_ylabel('Number of people boarding Titanic')\n",
    "ax.set_xticks(ind+width)\n",
    "ax.set_xticklabels( ('Cherbourg', 'Southampton', 'Queenstown') )\n",
    "ax.legend( (rects1[0], rects2[0], rects3[0]), ('Class 1st', 'Class 2nd', 'Class 3rd') )\n",
    "\n",
    "def autolabel(rects):\n",
    "    for rect in rects:\n",
    "        h = rect.get_height()\n",
    "        ax.text(rect.get_x()+rect.get_width()/2., 1.05*h, '%d'%int(h),\n",
    "                ha='center', va='bottom')\n",
    "\n",
    "autolabel(rects1)\n",
    "autolabel(rects2)\n",
    "autolabel(rects3)\n",
    "\n",
    "plt.show()"
   ]
  },
  {
   "cell_type": "code",
   "execution_count": 17,
   "metadata": {
    "collapsed": false
   },
   "outputs": [
    {
     "data": {
      "text/plain": [
       "Sex\n",
       "female    0.742038\n",
       "male      0.188908\n",
       "Name: Survived, dtype: float64"
      ]
     },
     "execution_count": 17,
     "metadata": {},
     "output_type": "execute_result"
    }
   ],
   "source": [
    "## Which class of sex has more chance of survival?\n",
    "titanic_df.groupby('Sex')['Survived'].mean()\n",
    "\n",
    "## Out of all female passengers, 74% passengers survived Titanic accident\n",
    "## Out of all male passengers, 18.89% passengers survived Titanic accident"
   ]
  },
  {
   "cell_type": "code",
   "execution_count": null,
   "metadata": {
    "collapsed": true
   },
   "outputs": [],
   "source": []
  }
 ],
 "metadata": {
  "kernelspec": {
   "display_name": "Python 2",
   "language": "python",
   "name": "python2"
  },
  "language_info": {
   "codemirror_mode": {
    "name": "ipython",
    "version": 2
   },
   "file_extension": ".py",
   "mimetype": "text/x-python",
   "name": "python",
   "nbconvert_exporter": "python",
   "pygments_lexer": "ipython2",
   "version": "2.7.11"
  }
 },
 "nbformat": 4,
 "nbformat_minor": 0
}
