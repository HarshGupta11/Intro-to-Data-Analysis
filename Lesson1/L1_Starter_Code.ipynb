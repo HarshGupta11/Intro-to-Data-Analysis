{
 "cells": [
  {
   "cell_type": "markdown",
   "metadata": {},
   "source": [
    "Before we get started, a couple of reminders to keep in mind when using iPython notebooks:\n",
    "\n",
    "- Remember that you can see from the left side of a code cell when it was last run if there is a number within the brackets.\n",
    "- When you start a new notebook session, make sure you run all of the cells up to the point where you last left off. Even if the output is still visible from when you ran the cells in your previous session, the kernel starts in a fresh state so you'll need to reload the data, etc. on a new session.\n",
    "- The previous point is useful to keep in mind if your answers do not match what is expected in the lesson's quizzes. Try reloading the data and run all of the processing steps one by one in order to make sure that you are working with the same variables and data that are at each quiz stage.\n",
    "\n",
    "\n",
    "## Load Data from CSVs"
   ]
  },
  {
   "cell_type": "code",
   "execution_count": 1,
   "metadata": {
    "collapsed": false
   },
   "outputs": [],
   "source": [
    "import unicodecsv\n",
    "\n",
    "def readcsv(filename):\n",
    "\twith open(filename,\"rb\") as f:\n",
    "\t\treader = unicodecsv.DictReader(f);\n",
    "\t\treturn list(reader);\n",
    "\n",
    "enrollments = readcsv('enrollments.csv');    \n",
    "daily_engagement = readcsv('daily_engagement.csv');\n",
    "project_submissions = readcsv('project_submissions.csv');"
   ]
  },
  {
   "cell_type": "code",
   "execution_count": 2,
   "metadata": {
    "collapsed": false
   },
   "outputs": [
    {
     "name": "stdout",
     "output_type": "stream",
     "text": [
      "{u'status': u'canceled', u'is_udacity': u'True', u'is_canceled': u'True', u'join_date': u'2014-11-10', u'account_key': u'448', u'cancel_date': u'2015-01-14', u'days_to_cancel': u'65'}\n",
      "448\n",
      "     account_key cancel_date days_to_cancel is_canceled is_udacity  \\\n",
      "0            448  2015-01-14             65        True       True   \n",
      "1            448  2014-11-10              5        True       True   \n",
      "2            448  2015-01-27              0        True       True   \n",
      "3            448  2014-11-10              0        True       True   \n",
      "4            448                                  False       True   \n",
      "5            448  2015-01-27             13        True       True   \n",
      "6            448  2015-03-10             42        True       True   \n",
      "7            448  2015-01-27              0        True       True   \n",
      "8            448  2015-01-27              0        True       True   \n",
      "9            700  2014-11-16              6        True      False   \n",
      "10           429  2015-03-10            120        True      False   \n",
      "11           429  2015-06-17             99        True      False   \n",
      "12            60  2015-01-14             65        True      False   \n",
      "13            60  2015-04-01             77        True      False   \n",
      "14            60                                  False      False   \n",
      "15          1300  2014-11-16              6        True      False   \n",
      "16           369                                  False      False   \n",
      "17           322  2015-02-02             84        True      False   \n",
      "18           322  2015-02-12              0        True      False   \n",
      "19           322  2015-03-10             26        True      False   \n",
      "20           322                                  False      False   \n",
      "21           336                                  False      False   \n",
      "22           553                                  False      False   \n",
      "23           584  2015-01-14             65        True      False   \n",
      "24           584  2015-03-10             55        True      False   \n",
      "25           584                                  False      False   \n",
      "26          1006  2014-11-17              7        True      False   \n",
      "27           458  2015-04-01            142        True      False   \n",
      "28           458  2015-04-06              2        True      False   \n",
      "29           458                                  False      False   \n",
      "...          ...         ...            ...         ...        ...   \n",
      "1610         414                                  False      False   \n",
      "1611         226                                  False      False   \n",
      "1612           2                                  False      False   \n",
      "1613        1241  2015-06-09              0        True      False   \n",
      "1614        1187  2015-06-15              6        True      False   \n",
      "1615        1274                                  False      False   \n",
      "1616         218                                  False      False   \n",
      "1617         324                                  False      False   \n",
      "1618         891  2015-07-15              6        True      False   \n",
      "1619        1000                                  False      False   \n",
      "1620         973                                  False      False   \n",
      "1621         806                                  False      False   \n",
      "1622        1178  2015-08-07             22        True      False   \n",
      "1623         832                                  False      False   \n",
      "1624        1232  2015-07-17              1        True      False   \n",
      "1625        1057  2015-07-21              4        True      False   \n",
      "1626         689                                  False      False   \n",
      "1627        1278                                  False      False   \n",
      "1628        1272  2015-07-23              6        True      False   \n",
      "1629         438                                  False      False   \n",
      "1630         992                                  False      False   \n",
      "1631         575                                  False      False   \n",
      "1632         807  2015-07-22              2        True      False   \n",
      "1633        1298                                  False      False   \n",
      "1634         751                                  False      False   \n",
      "1635        1176                                  False      False   \n",
      "1636        1110                                  False      False   \n",
      "1637        1116  2015-08-18              3        True      False   \n",
      "1638         874                                  False      False   \n",
      "1639         686                                  False      False   \n",
      "\n",
      "       join_date    status  \n",
      "0     2014-11-10  canceled  \n",
      "1     2014-11-05  canceled  \n",
      "2     2015-01-27  canceled  \n",
      "3     2014-11-10  canceled  \n",
      "4     2015-03-10   current  \n",
      "5     2015-01-14  canceled  \n",
      "6     2015-01-27  canceled  \n",
      "7     2015-01-27  canceled  \n",
      "8     2015-01-27  canceled  \n",
      "9     2014-11-10  canceled  \n",
      "10    2014-11-10  canceled  \n",
      "11    2015-03-10  canceled  \n",
      "12    2014-11-10  canceled  \n",
      "13    2015-01-14  canceled  \n",
      "14    2015-04-01   current  \n",
      "15    2014-11-10  canceled  \n",
      "16    2014-11-10   current  \n",
      "17    2014-11-10  canceled  \n",
      "18    2015-02-12  canceled  \n",
      "19    2015-02-12  canceled  \n",
      "20    2015-03-10   current  \n",
      "21    2014-11-10   current  \n",
      "22    2014-11-10   current  \n",
      "23    2014-11-10  canceled  \n",
      "24    2015-01-14  canceled  \n",
      "25    2015-03-10   current  \n",
      "26    2014-11-10  canceled  \n",
      "27    2014-11-10  canceled  \n",
      "28    2015-04-04  canceled  \n",
      "29    2015-04-06   current  \n",
      "...          ...       ...  \n",
      "1610  2015-06-07   current  \n",
      "1611  2015-06-08   current  \n",
      "1612  2015-06-08   current  \n",
      "1613  2015-06-09  canceled  \n",
      "1614  2015-06-09  canceled  \n",
      "1615  2015-07-08   current  \n",
      "1616  2015-07-08   current  \n",
      "1617  2015-07-09   current  \n",
      "1618  2015-07-09  canceled  \n",
      "1619  2015-07-11   current  \n",
      "1620  2015-07-13   current  \n",
      "1621  2015-07-15   current  \n",
      "1622  2015-07-16  canceled  \n",
      "1623  2015-07-16   current  \n",
      "1624  2015-07-16  canceled  \n",
      "1625  2015-07-17  canceled  \n",
      "1626  2015-07-17   current  \n",
      "1627  2015-07-17   current  \n",
      "1628  2015-07-17  canceled  \n",
      "1629  2015-07-17   current  \n",
      "1630  2015-07-17   current  \n",
      "1631  2015-07-17   current  \n",
      "1632  2015-07-20  canceled  \n",
      "1633  2015-08-11   current  \n",
      "1634  2015-08-11   current  \n",
      "1635  2015-08-12   current  \n",
      "1636  2015-08-13   current  \n",
      "1637  2015-08-15  canceled  \n",
      "1638  2015-08-22   current  \n",
      "1639  2015-08-23   current  \n",
      "\n",
      "[1640 rows x 7 columns]\n"
     ]
    }
   ],
   "source": [
    "#####################################\n",
    "#                 1                 #\n",
    "#####################################\n",
    "\n",
    "## Read in the data from daily_engagement.csv and project_submissions.csv \n",
    "## and store the results in the below variables.\n",
    "## Then look at the first row of each table.\n",
    "print enrollments[0]\n",
    "enrollments[0]\n",
    "print enrollments[0]['account_key'];\n",
    "enrollments[0]\n",
    "\n",
    "import pandas\n",
    "data = pandas.DataFrame(enrollments)\n",
    "print data"
   ]
  },
  {
   "cell_type": "markdown",
   "metadata": {},
   "source": [
    "## Fixing Data Types"
   ]
  },
  {
   "cell_type": "code",
   "execution_count": 3,
   "metadata": {
    "collapsed": false
   },
   "outputs": [
    {
     "data": {
      "text/plain": [
       "{u'account_key': u'448',\n",
       " u'cancel_date': datetime.datetime(2015, 1, 14, 0, 0),\n",
       " u'days_to_cancel': 65,\n",
       " u'is_canceled': True,\n",
       " u'is_udacity': True,\n",
       " u'join_date': datetime.datetime(2014, 11, 10, 0, 0),\n",
       " u'status': u'canceled'}"
      ]
     },
     "execution_count": 3,
     "metadata": {},
     "output_type": "execute_result"
    }
   ],
   "source": [
    "from datetime import datetime as dt\n",
    "\n",
    "# Takes a date as a string, and returns a Python datetime object. \n",
    "# If there is no date given, returns None\n",
    "def parse_date(date):\n",
    "    if date == '':\n",
    "        return None\n",
    "    else:\n",
    "        return dt.strptime(date, '%Y-%m-%d')\n",
    "    \n",
    "# Takes a string which is either an empty string or represents an integer,\n",
    "# and returns an int or None.\n",
    "def parse_maybe_int(i):\n",
    "    if i == '':\n",
    "        return None\n",
    "    else:\n",
    "        return int(i)\n",
    "\n",
    "# Clean up the data types in the enrollments table\n",
    "for enrollment in enrollments:\n",
    "    enrollment['cancel_date'] = parse_date(enrollment['cancel_date'])\n",
    "    enrollment['days_to_cancel'] = parse_maybe_int(enrollment['days_to_cancel'])\n",
    "    enrollment['is_canceled'] = enrollment['is_canceled'] == 'True'\n",
    "    enrollment['is_udacity'] = enrollment['is_udacity'] == 'True'\n",
    "    enrollment['join_date'] = parse_date(enrollment['join_date'])\n",
    "    \n",
    "enrollments[0]"
   ]
  },
  {
   "cell_type": "code",
   "execution_count": 4,
   "metadata": {
    "collapsed": false
   },
   "outputs": [
    {
     "data": {
      "text/plain": [
       "{u'account_key': u'0',\n",
       " u'lessons_completed': 0,\n",
       " u'num_courses_visited': 1,\n",
       " u'projects_completed': 0,\n",
       " u'total_minutes_visited': 11.6793745,\n",
       " u'utc_date': datetime.datetime(2015, 1, 9, 0, 0)}"
      ]
     },
     "execution_count": 4,
     "metadata": {},
     "output_type": "execute_result"
    }
   ],
   "source": [
    "# Clean up the data types in the engagement table\n",
    "for engagement_record in daily_engagement:\n",
    "    engagement_record['lessons_completed'] = int(float(engagement_record['lessons_completed']))\n",
    "    engagement_record['num_courses_visited'] = int(float(engagement_record['num_courses_visited']))\n",
    "    engagement_record['projects_completed'] = int(float(engagement_record['projects_completed']))\n",
    "    engagement_record['total_minutes_visited'] = float(engagement_record['total_minutes_visited'])\n",
    "    engagement_record['utc_date'] = parse_date(engagement_record['utc_date'])\n",
    "    \n",
    "daily_engagement[0]"
   ]
  },
  {
   "cell_type": "code",
   "execution_count": 5,
   "metadata": {
    "collapsed": false
   },
   "outputs": [
    {
     "data": {
      "text/plain": [
       "{u'account_key': u'256',\n",
       " u'assigned_rating': u'UNGRADED',\n",
       " u'completion_date': datetime.datetime(2015, 1, 16, 0, 0),\n",
       " u'creation_date': datetime.datetime(2015, 1, 14, 0, 0),\n",
       " u'lesson_key': u'3176718735',\n",
       " u'processing_state': u'EVALUATED'}"
      ]
     },
     "execution_count": 5,
     "metadata": {},
     "output_type": "execute_result"
    }
   ],
   "source": [
    "# Clean up the data types in the submissions table\n",
    "for submission in project_submissions:\n",
    "    submission['completion_date'] = parse_date(submission['completion_date'])\n",
    "    submission['creation_date'] = parse_date(submission['creation_date'])\n",
    "\n",
    "project_submissions[0]"
   ]
  },
  {
   "cell_type": "markdown",
   "metadata": {},
   "source": [
    "Note when running the above cells that we are actively changing the contents of our data variables. If you try to run these cells multiple times in the same session, an error will occur.\n",
    "\n",
    "## Investigating the Data"
   ]
  },
  {
   "cell_type": "code",
   "execution_count": 6,
   "metadata": {
    "collapsed": false
   },
   "outputs": [
    {
     "name": "stdout",
     "output_type": "stream",
     "text": [
      "1640\n",
      "1302\n",
      "136240\n",
      "1237\n",
      "3642\n",
      "743\n",
      "0\n",
      "{u'status': u'canceled', u'is_udacity': True, u'is_canceled': True, u'join_date': datetime.datetime(2015, 1, 10, 0, 0), u'account_key': u'1304', u'cancel_date': datetime.datetime(2015, 3, 10, 0, 0), u'days_to_cancel': 59}\n",
      "1\n",
      "{u'status': u'canceled', u'is_udacity': True, u'is_canceled': True, u'join_date': datetime.datetime(2015, 3, 10, 0, 0), u'account_key': u'1304', u'cancel_date': datetime.datetime(2015, 6, 17, 0, 0), u'days_to_cancel': 99}\n",
      "2\n",
      "{u'status': u'current', u'is_udacity': True, u'is_canceled': False, u'join_date': datetime.datetime(2015, 2, 25, 0, 0), u'account_key': u'1101', u'cancel_date': None, u'days_to_cancel': None}\n",
      "3\n",
      "3\n",
      "{u'status': u'canceled', u'is_udacity': False, u'is_canceled': True, u'join_date': datetime.datetime(2014, 11, 12, 0, 0), u'account_key': u'1219', u'cancel_date': datetime.datetime(2014, 11, 12, 0, 0), u'days_to_cancel': 0}\n",
      "3\n"
     ]
    }
   ],
   "source": [
    "print len(enrollments)\n",
    "\n",
    "unique_enrolled_students = set()\n",
    "for enrollment in enrollments:\n",
    "    unique_enrolled_students.add(enrollment['account_key'])\n",
    "print len(unique_enrolled_students)\n",
    "\n",
    "print len(daily_engagement)\n",
    "\n",
    "unique_engagement_students = set()\n",
    "for engagement_record in daily_engagement:\n",
    "    unique_engagement_students.add(engagement_record['account_key'])\n",
    "print len(unique_engagement_students)\n",
    "\n",
    "print len(project_submissions)\n",
    "\n",
    "unique_project_submitters = set()\n",
    "for submission in project_submissions:\n",
    "    unique_project_submitters.add(submission['account_key'])\n",
    "print len(unique_project_submitters)\n",
    "\n",
    "print daily_engagement[0]['account_key']\n",
    "tot = 0\n",
    "for each in enrollments:\n",
    "    if ((each['account_key'] not in unique_engagement_students) & ((each['days_to_cancel'] > 0) | (each['days_to_cancel'] is None)))        :\n",
    "        print each\n",
    "        tot+=1\n",
    "        print tot;\n",
    "print tot        \n",
    "for enrollment in enrollments:\n",
    "    student = enrollment['account_key']\n",
    "    if student not in unique_engagement_students:\n",
    "        print enrollment\n",
    "        break\n",
    "        \n",
    "print tot\n"
   ]
  },
  {
   "cell_type": "markdown",
   "metadata": {},
   "source": [
    "## Problems in the Data"
   ]
  },
  {
   "cell_type": "code",
   "execution_count": 7,
   "metadata": {
    "collapsed": true
   },
   "outputs": [],
   "source": [
    "#####################################\n",
    "#                 3                 #\n",
    "#####################################\n",
    "\n",
    "## Rename the \"acct\" column in the daily_engagement table to \"account_key\"."
   ]
  },
  {
   "cell_type": "markdown",
   "metadata": {},
   "source": [
    "## Missing Engagement Records"
   ]
  },
  {
   "cell_type": "code",
   "execution_count": 8,
   "metadata": {
    "collapsed": true
   },
   "outputs": [],
   "source": [
    "#####################################\n",
    "#                 4                 #\n",
    "#####################################\n",
    "\n",
    "## Find any one student enrollments where the student is missing from the daily engagement table.\n",
    "## Output that enrollment."
   ]
  },
  {
   "cell_type": "markdown",
   "metadata": {},
   "source": [
    "## Checking for More Problem Records"
   ]
  },
  {
   "cell_type": "code",
   "execution_count": 9,
   "metadata": {
    "collapsed": true
   },
   "outputs": [],
   "source": [
    "#####################################\n",
    "#                 5                 #\n",
    "#####################################\n",
    "\n",
    "## Find the number of surprising data points (enrollments missing from\n",
    "## the engagement table) that remain, if any."
   ]
  },
  {
   "cell_type": "markdown",
   "metadata": {},
   "source": [
    "## Tracking Down the Remaining Problems"
   ]
  },
  {
   "cell_type": "code",
   "execution_count": 10,
   "metadata": {
    "collapsed": false
   },
   "outputs": [
    {
     "data": {
      "text/plain": [
       "6"
      ]
     },
     "execution_count": 10,
     "metadata": {},
     "output_type": "execute_result"
    }
   ],
   "source": [
    "# Create a set of the account keys for all Udacity test accounts\n",
    "udacity_test_accounts = set()\n",
    "for enrollment in enrollments:\n",
    "    if enrollment['is_udacity']:\n",
    "        udacity_test_accounts.add(enrollment['account_key'])\n",
    "len(udacity_test_accounts)"
   ]
  },
  {
   "cell_type": "code",
   "execution_count": 11,
   "metadata": {
    "collapsed": true
   },
   "outputs": [],
   "source": [
    "# Given some data with an account_key field, removes any records corresponding to Udacity test accounts\n",
    "def remove_udacity_accounts(data):\n",
    "    non_udacity_data = []\n",
    "    for data_point in data:\n",
    "        if data_point['account_key'] not in udacity_test_accounts:\n",
    "            non_udacity_data.append(data_point)\n",
    "    return non_udacity_data"
   ]
  },
  {
   "cell_type": "code",
   "execution_count": 12,
   "metadata": {
    "collapsed": false
   },
   "outputs": [
    {
     "name": "stdout",
     "output_type": "stream",
     "text": [
      "1622\n",
      "135656\n",
      "3634\n"
     ]
    }
   ],
   "source": [
    "# Remove Udacity test accounts from all three tables\n",
    "non_udacity_enrollments = remove_udacity_accounts(enrollments)\n",
    "non_udacity_engagement = remove_udacity_accounts(daily_engagement)\n",
    "non_udacity_submissions = remove_udacity_accounts(project_submissions)\n",
    "\n",
    "print len(non_udacity_enrollments)\n",
    "print len(non_udacity_engagement)\n",
    "print len(non_udacity_submissions)"
   ]
  },
  {
   "cell_type": "markdown",
   "metadata": {},
   "source": [
    "## Refining the Question"
   ]
  },
  {
   "cell_type": "code",
   "execution_count": 13,
   "metadata": {
    "collapsed": false
   },
   "outputs": [
    {
     "name": "stdout",
     "output_type": "stream",
     "text": [
      "995\n"
     ]
    }
   ],
   "source": [
    "#####################################\n",
    "#                 6                 #\n",
    "#####################################\n",
    "\n",
    "## Create a dictionary named paid_students containing all students who either\n",
    "## haven't canceled yet or who remained enrolled for more than 7 days. The keys\n",
    "## should be account keys, and the values should be the date the student enrolled.\n",
    "paid_students = {}\n",
    "for each in non_udacity_enrollments:\n",
    "    if(each['days_to_cancel'] > 7 or each['days_to_cancel'] is None):\n",
    "        if(not each['account_key'] in paid_students):\n",
    "            paid_students[each['account_key']] = each['join_date']\n",
    "        if(each['join_date'] > paid_students[each['account_key']] ):\n",
    "            paid_students[each['account_key']] = each['join_date']\n",
    "        \n",
    "print len(paid_students)\n"
   ]
  },
  {
   "cell_type": "markdown",
   "metadata": {},
   "source": [
    "## Getting Data from First Week"
   ]
  },
  {
   "cell_type": "code",
   "execution_count": 14,
   "metadata": {
    "collapsed": true
   },
   "outputs": [],
   "source": [
    "# Takes a student's join date and the date of a specific engagement record,\n",
    "# and returns True if that engagement record happened within one week\n",
    "# of the student joining.\n",
    "def within_one_week(join_date, engagement_date):\n",
    "    time_delta = engagement_date - join_date\n",
    "    return time_delta.days < 7 and time_delta.days >= 0"
   ]
  },
  {
   "cell_type": "markdown",
   "metadata": {},
   "source": [
    "## Exploring Student Engagement"
   ]
  },
  {
   "cell_type": "code",
   "execution_count": 15,
   "metadata": {
    "collapsed": false
   },
   "outputs": [
    {
     "name": "stdout",
     "output_type": "stream",
     "text": [
      "1293\n",
      "134549\n",
      "3618\n"
     ]
    },
    {
     "data": {
      "text/plain": [
       "6919"
      ]
     },
     "execution_count": 15,
     "metadata": {},
     "output_type": "execute_result"
    }
   ],
   "source": [
    "#####################################\n",
    "#                 7                 #\n",
    "#####################################\n",
    "\n",
    "## Create a list of rows from the engagement table including only rows where\n",
    "## the student is one of the paid students you just found, and the date is within\n",
    "## one week of the student's join date.\n",
    "def remove_free_trial_cancels(data):\n",
    "    new_data = []\n",
    "    for data_point in data:\n",
    "        if data_point['account_key'] in paid_students:\n",
    "            new_data.append(data_point)\n",
    "    return new_data\n",
    "\n",
    "paid_enrollments = remove_free_trial_cancels(non_udacity_enrollments)\n",
    "paid_engagement = remove_free_trial_cancels(non_udacity_engagement)\n",
    "paid_submissions = remove_free_trial_cancels(non_udacity_submissions)\n",
    "\n",
    "print len(paid_enrollments)\n",
    "print len(paid_engagement)\n",
    "print len(paid_submissions)\n",
    "\n",
    "paid_engagement_in_first_week = []\n",
    "for engagement_record in paid_engagement:\n",
    "    account_key = engagement_record['account_key']\n",
    "    join_date = paid_students[account_key]\n",
    "    engagement_record_date = engagement_record['utc_date']\n",
    "\n",
    "    if within_one_week(join_date, engagement_record_date):\n",
    "        paid_engagement_in_first_week.append(engagement_record)\n",
    "\n",
    "len(paid_engagement_in_first_week)"
   ]
  },
  {
   "cell_type": "code",
   "execution_count": 16,
   "metadata": {
    "collapsed": true
   },
   "outputs": [],
   "source": [
    "from collections import defaultdict\n",
    "\n",
    "# Create a dictionary of engagement grouped by student.\n",
    "# The keys are account keys, and the values are lists of engagement records.\n",
    "def group_data(data,key_name):\n",
    "    engagement_by_account = defaultdict(list)\n",
    "    for engagement_record in data:\n",
    "        key = engagement_record[key_name]\n",
    "        engagement_by_account[key].append(engagement_record)\n",
    "    return engagement_by_account\n",
    "engagement_by_account = group_data(paid_engagement_in_first_week,'account_key')"
   ]
  },
  {
   "cell_type": "code",
   "execution_count": 17,
   "metadata": {
    "collapsed": false
   },
   "outputs": [
    {
     "name": "stdout",
     "output_type": "stream",
     "text": [
      "995\n",
      "995\n"
     ]
    }
   ],
   "source": [
    "# Create a dictionary with the total minutes each student spent in the classroom during the first week.\n",
    "# The keys are account keys, and the values are numbers (total minutes)\n",
    "\n",
    "def sum_group_data(data,key):\n",
    "    total_minutes_by_account = {}\n",
    "    for account_key, engagement_for_student in data.items():\n",
    "        total_minutes = 0\n",
    "        for engagement_record in engagement_for_student:\n",
    "            total_minutes += engagement_record[key]\n",
    "        total_minutes_by_account[account_key] = total_minutes\n",
    "    return total_minutes_by_account\n",
    "\n",
    "total_minutes_by_account = sum_group_data(engagement_by_account,'total_minutes_visited')\n",
    "lessons_completed_by_account = sum_group_data(engagement_by_account, 'lessons_completed')\n",
    "print len(total_minutes_by_account)\n",
    "print len(lessons_completed_by_account)"
   ]
  },
  {
   "cell_type": "code",
   "execution_count": 18,
   "metadata": {
    "collapsed": false
   },
   "outputs": [
    {
     "name": "stdout",
     "output_type": "stream",
     "text": [
      "Mean: 306.708326753\n",
      "Standard deviation: 412.996933409\n",
      "Minimum: 0.0\n",
      "Maximum: 3564.7332645\n"
     ]
    }
   ],
   "source": [
    "import numpy as np\n",
    "\n",
    "# Summarize the data about minutes spent in the classroom\n",
    "def print_statistics(data):\n",
    "    total_minutes = data.values()\n",
    "    print 'Mean:', np.mean(total_minutes)\n",
    "    print 'Standard deviation:', np.std(total_minutes)\n",
    "    print 'Minimum:', np.min(total_minutes)\n",
    "    print 'Maximum:', np.max(total_minutes)\n",
    "    \n",
    "print_statistics(total_minutes_by_account)"
   ]
  },
  {
   "cell_type": "markdown",
   "metadata": {},
   "source": [
    "## Debugging Data Analysis Code"
   ]
  },
  {
   "cell_type": "code",
   "execution_count": 19,
   "metadata": {
    "collapsed": false
   },
   "outputs": [
    {
     "name": "stdout",
     "output_type": "stream",
     "text": [
      "0\n"
     ]
    }
   ],
   "source": [
    "#####################################\n",
    "#                 8                 #\n",
    "#####################################\n",
    "account_with_problems = {}\n",
    "for account_key, engagement_for_student in engagement_by_account.items():\n",
    "    total_minutes = 0\n",
    "    for engagement_record in engagement_for_student:\n",
    "        total_minutes += engagement_record['total_minutes_visited']\n",
    "    total_minutes_by_account[account_key] = total_minutes\n",
    "    if(total_minutes > 10080):\n",
    "        account_with_problems[account_key] = engagement_by_account[account_key]\n",
    "        \n",
    "print len(account_with_problems)\n",
    "for account_key, engagement_for_student in account_with_problems.items():\n",
    "    for engagement_record in engagement_for_student:\n",
    "        print engagement_record\n",
    "## Go through a similar process as before to see if there is a problem.\n",
    "## Locate at least one surprising piece of data, output it, and take a look at it."
   ]
  },
  {
   "cell_type": "markdown",
   "metadata": {},
   "source": [
    "## Lessons Completed in First Week"
   ]
  },
  {
   "cell_type": "code",
   "execution_count": 20,
   "metadata": {
    "collapsed": false
   },
   "outputs": [
    {
     "name": "stdout",
     "output_type": "stream",
     "text": [
      "Mean: 1.63618090452\n",
      "Standard deviation: 3.00256129983\n",
      "Minimum: 0\n",
      "Maximum: 36\n"
     ]
    }
   ],
   "source": [
    "#####################################\n",
    "#                 9                 #\n",
    "#####################################\n",
    "\"\"\"lessons_completed = lessons_completed_by_account.values()\n",
    "print 'Mean:', np.mean(lessons_completed)\n",
    "print 'Standard deviation:', np.std(lessons_completed)\n",
    "print 'Minimum:', np.min(lessons_completed)\n",
    "print 'Maximum:', np.max(lessons_completed)\"\"\"\n",
    "print_statistics(lessons_completed_by_account)\n",
    "## Adapt the code above to find the mean, standard deviation, minimum, and maximum for\n",
    "## the number of lessons completed by each student during the first week. Try creating\n",
    "## one or more functions to re-use the code above."
   ]
  },
  {
   "cell_type": "markdown",
   "metadata": {},
   "source": [
    "## Number of Visits in First Week"
   ]
  },
  {
   "cell_type": "code",
   "execution_count": 21,
   "metadata": {
    "collapsed": false
   },
   "outputs": [
    {
     "name": "stdout",
     "output_type": "stream",
     "text": [
      "Mean: 2.86733668342\n",
      "Standard deviation: 2.25519800292\n",
      "Minimum: 0\n",
      "Maximum: 7\n"
     ]
    }
   ],
   "source": [
    "######################################\n",
    "#                 10                 #\n",
    "######################################\n",
    "for key, data in engagement_by_account.items():\n",
    "    for each in data:\n",
    "        if each['num_courses_visited'] > 0:\n",
    "            each['has_visited'] = 1\n",
    "        else:\n",
    "            each['has_visited'] = 0\n",
    "total_days_visited_by_account = sum_group_data(engagement_by_account,'has_visited')\n",
    "print_statistics(total_days_visited_by_account)\n",
    "## Find the mean, standard deviation, minimum, and maximum for the number of\n",
    "## days each student visits the classroom during the first week."
   ]
  },
  {
   "cell_type": "markdown",
   "metadata": {},
   "source": [
    "## Splitting out Passing Students"
   ]
  },
  {
   "cell_type": "code",
   "execution_count": 22,
   "metadata": {
    "collapsed": false
   },
   "outputs": [
    {
     "name": "stdout",
     "output_type": "stream",
     "text": [
      "647\n",
      "669\n",
      "4527\n",
      "2392\n",
      "579\n",
      "1813\n"
     ]
    }
   ],
   "source": [
    "######################################\n",
    "#                 11                 #\n",
    "######################################\n",
    "\n",
    "## Create two lists of engagement data for paid students in the first week.\n",
    "## The first list should contain data for students who eventually pass the\n",
    "## subway project, and the second list should contain data for students\n",
    "## who do not.\n",
    "\n",
    "subway_project_lesson_keys = ['746169184', '3176718735']\n",
    "passing_id = set()\n",
    "non_passing_id = set()\n",
    "passing_engagement = []\n",
    "non_passing_engagement = []\n",
    "for each in paid_submissions:\n",
    "    account_key = each['account_key']\n",
    "    join_date = paid_students[account_key]\n",
    "    creation_date = each['creation_date']\n",
    "    completion_date = each['completion_date']\n",
    "    if(1):\n",
    "    #if(within_one_week(join_date,creation_date) and within_one_week(join_date,completion_date)):\n",
    "        if(((each['assigned_rating'] == 'PASSED') | (each['assigned_rating'] == 'DISTINCTION')) & ((each['lesson_key'] == '746169184') | (each['lesson_key'] == '3176718735'))):\n",
    "            passing_id.add(each['account_key'])\n",
    "        else:\n",
    "            non_passing_id.add(each['account_key'])\n",
    "\n",
    "print len(passing_id)\n",
    "print len(non_passing_id)\n",
    "tot = 0\n",
    "tot2 = 0\n",
    "for each in paid_engagement_in_first_week:\n",
    "    if each['account_key'] in passing_id:\n",
    "        passing_engagement.append(each)\n",
    "    elif each['account_key'] in non_passing_id:\n",
    "        tot+=1\n",
    "        non_passing_engagement.append(each)\n",
    "    else:\n",
    "        tot2+=1\n",
    "        non_passing_engagement.append(each)\n",
    "        \n",
    "print len(passing_engagement)\n",
    "print len(non_passing_engagement)\n",
    "print tot\n",
    "print tot2\n"
   ]
  },
  {
   "cell_type": "markdown",
   "metadata": {},
   "source": [
    "## Comparing the Two Student Groups"
   ]
  },
  {
   "cell_type": "code",
   "execution_count": null,
   "metadata": {
    "collapsed": true
   },
   "outputs": [],
   "source": []
  },
  {
   "cell_type": "code",
   "execution_count": 23,
   "metadata": {
    "collapsed": false
   },
   "outputs": [
    {
     "name": "stdout",
     "output_type": "stream",
     "text": [
      "Mean: 394.586046484\n",
      "Standard deviation: 448.499519327\n",
      "Minimum: 0.0\n",
      "Maximum: 3564.7332645\n",
      "Mean: 403.218158043\n",
      "Standard deviation: 450.465657268\n",
      "Minimum: 0.0\n",
      "Maximum: 3564.7332645\n",
      "647\n",
      "669\n"
     ]
    }
   ],
   "source": [
    "######################################\n",
    "#                 12                 #\n",
    "######################################\n",
    "passing_minutes = {}\n",
    "non_passing_minutes = {}\n",
    "tot = 0;\n",
    "tot2 = 0;\n",
    "for each in passing_id:\n",
    "    passing_minutes[each] = total_minutes_by_account[each]\n",
    "    tot+=1\n",
    "for each in non_passing_id:\n",
    "    if each in total_minutes_by_account:\n",
    "        non_passing_minutes[each] = total_minutes_by_account[each]\n",
    "        tot2+=1\n",
    "\n",
    "print_statistics(passing_minutes)\n",
    "print_statistics(non_passing_minutes)\n",
    "print tot\n",
    "print tot2\n",
    "\n",
    "## Compute some metrics you're interested in and see how they differ for\n",
    "## students who pass the subway project vs. students who don't. A good\n",
    "## starting point would be the metrics we looked at earlier (minutes spent\n",
    "## in the classroom, lessons completed, and days visited)."
   ]
  },
  {
   "cell_type": "code",
   "execution_count": 24,
   "metadata": {
    "collapsed": false
   },
   "outputs": [
    {
     "name": "stdout",
     "output_type": "stream",
     "text": [
      "Mean: 394.586046484\n",
      "Standard deviation: 448.499519327\n",
      "Minimum: 0.0\n",
      "Maximum: 3564.7332645\n",
      "Mean: 143.326474267\n",
      "Standard deviation: 269.538619011\n",
      "Minimum: 0.0\n",
      "Maximum: 1768.52274933\n",
      "669\n",
      "348\n"
     ]
    }
   ],
   "source": [
    "##Why above analysis failed?\n",
    "## Non-passing-id is made from paid_submissions which contain the submissions from all the weeks and there will be some submissions\n",
    "## in which same student passes in one submission in first week and failed in one submission of other week. It means non-passing-id \n",
    "## will contain all account_key which ever failed atleast once in whole course(for all time). Also intersection of passing-id and \n",
    "## non-passing id is not zero. Also there are students who have not made atleast one submission in whole course but they were\n",
    "## engaged in classes of first week\n",
    "\n",
    "engagement_by_pass_account = group_data(passing_engagement,'account_key')\n",
    "total_passing_minutes = sum_group_data(engagement_by_pass_account, 'total_minutes_visited')\n",
    "print_statistics(total_passing_minutes)\n",
    "\n",
    "engagement_by_non_pass_account = group_data(non_passing_engagement,'account_key')\n",
    "total_non_passing_minutes = sum_group_data(engagement_by_non_pass_account, 'total_minutes_visited')\n",
    "print_statistics(total_non_passing_minutes)\n",
    "\n",
    "print len(non_passing_minutes)\n",
    "print len(total_non_passing_minutes)\n"
   ]
  },
  {
   "cell_type": "code",
   "execution_count": 25,
   "metadata": {
    "collapsed": false
   },
   "outputs": [
    {
     "name": "stdout",
     "output_type": "stream",
     "text": [
      "Mean: 0.00927357032457\n",
      "Standard deviation: 0.110809572358\n",
      "Minimum: 0\n",
      "Maximum: 2\n",
      "Mean: 0.0\n",
      "Standard deviation: 0.0\n",
      "Minimum: 0\n",
      "Maximum: 0\n"
     ]
    }
   ],
   "source": [
    "##My own metric comparison for total_projects completed by pass and non-pass students \n",
    "total_projects_pass_completed = sum_group_data(engagement_by_pass_account,'projects_completed')\n",
    "total_projects_non_pass_completed = sum_group_data(engagement_by_non_pass_account,'projects_completed')\n",
    "print_statistics(total_projects_pass_completed)\n",
    "print_statistics(total_projects_non_pass_completed)"
   ]
  },
  {
   "cell_type": "code",
   "execution_count": 26,
   "metadata": {
    "collapsed": false
   },
   "outputs": [
    {
     "name": "stdout",
     "output_type": "stream",
     "text": [
      "Mean: 2.05255023184\n",
      "Standard deviation: 3.14222705558\n",
      "Minimum: 0\n",
      "Maximum: 36\n",
      "Mean: 0.862068965517\n",
      "Standard deviation: 2.54915994183\n",
      "Minimum: 0\n",
      "Maximum: 27\n"
     ]
    }
   ],
   "source": [
    "##Metric comparison for total_lessons completed by pass and non-pass students \n",
    "total_lessons_pass_completed = sum_group_data(engagement_by_pass_account,'lessons_completed')\n",
    "total_lessons_non_pass_completed = sum_group_data(engagement_by_non_pass_account,'lessons_completed')\n",
    "print_statistics(total_lessons_pass_completed)\n",
    "print_statistics(total_lessons_non_pass_completed)"
   ]
  },
  {
   "cell_type": "code",
   "execution_count": 27,
   "metadata": {
    "collapsed": false
   },
   "outputs": [
    {
     "name": "stdout",
     "output_type": "stream",
     "text": [
      "Mean: 3.38485316847\n",
      "Standard deviation: 2.25882147092\n",
      "Minimum: 0\n",
      "Maximum: 7\n",
      "Mean: 1.90517241379\n",
      "Standard deviation: 1.90573144136\n",
      "Minimum: 0\n",
      "Maximum: 7\n"
     ]
    }
   ],
   "source": [
    "##Metric comparison for total_days_visited by pass and non-pass students \n",
    "total_days_pass_visited = sum_group_data(engagement_by_pass_account,'has_visited')\n",
    "total_days_non_pass_visited = sum_group_data(engagement_by_non_pass_account,'has_visited')\n",
    "print_statistics(total_days_pass_visited)\n",
    "print_statistics(total_days_non_pass_visited)"
   ]
  },
  {
   "cell_type": "markdown",
   "metadata": {},
   "source": [
    "## Making Histograms"
   ]
  },
  {
   "cell_type": "code",
   "execution_count": 28,
   "metadata": {
    "collapsed": false
   },
   "outputs": [
    {
     "data": {
      "text/plain": [
       "(array([ 87.,  82.,  79.,   0.,  91.,  77.,   0.,  85.,  78.,  68.]),\n",
       " array([ 0. ,  0.7,  1.4,  2.1,  2.8,  3.5,  4.2,  4.9,  5.6,  6.3,  7. ]),\n",
       " <a list of 10 Patch objects>)"
      ]
     },
     "execution_count": 28,
     "metadata": {},
     "output_type": "execute_result"
    },
    {
     "data": {
      "image/png": "[encoded data removed]",
      "text/plain": [
       "<matplotlib.figure.Figure at 0x3eb8c88>"
      ]
     },
     "metadata": {},
     "output_type": "display_data"
    }
   ],
   "source": [
    "######################################\n",
    "#                 13                 #\n",
    "######################################\n",
    "#data = [1, 2, 1, 3, 3, 1, 4, 2]\n",
    "\n",
    "%matplotlib inline\n",
    "import matplotlib.pyplot as plt\n",
    "#plt.hist(data)\n",
    "\n",
    "plt.hist(total_days_pass_visited.values())\n",
    "\n",
    "## Make histograms of the three metrics we looked at earlier for both\n",
    "## students who passed the subway project and students who didn't. You\n",
    "## might also want to make histograms of any other metrics you examined."
   ]
  },
  {
   "cell_type": "code",
   "execution_count": 55,
   "metadata": {
    "collapsed": false
   },
   "outputs": [
    {
     "data": {
      "text/plain": [
       "<matplotlib.legend.Legend at 0x221fd470>"
      ]
     },
     "execution_count": 55,
     "metadata": {},
     "output_type": "execute_result"
    },
    {
     "data": {
      "image/png": "[encoded data removed]",
      "text/plain": [
       "<matplotlib.figure.Figure at 0x21c656a0>"
      ]
     },
     "metadata": {},
     "output_type": "display_data"
    }
   ],
   "source": [
    "import seaborn as sns\n",
    "plt.xlabel(\"Days Visited\")\n",
    "plt.ylabel(\"Number of students\")\n",
    "plt.title(\"Distribution of classroom visits in first week\")\n",
    "bins = np.linspace(0, 8, 50)\n",
    "plt.hist(total_days_pass_visited.values(),bins,label = 'Passed Students')\n",
    "bins = np.linspace(0, 8, 100)\n",
    "plt.hist(total_days_non_pass_visited.values(),bins,alpha = 0.8,label = 'Not Passed Students')\n",
    "plt.legend(loc='upper right')\n",
    "\n",
    "\n"
   ]
  },
  {
   "cell_type": "code",
   "execution_count": 61,
   "metadata": {
    "collapsed": false
   },
   "outputs": [
    {
     "data": {
      "text/plain": [
       "(array([ 516.,   97.,   23.,    4.,    3.,    3.,    0.,    0.,    0.,    1.]),\n",
       " array([  0. ,   3.6,   7.2,  10.8,  14.4,  18. ,  21.6,  25.2,  28.8,\n",
       "         32.4,  36. ]),\n",
       " <a list of 10 Patch objects>)"
      ]
     },
     "execution_count": 61,
     "metadata": {},
     "output_type": "execute_result"
    },
    {
     "data": {
      "image/png": "[encoded data removed]",
      "text/plain": [
       "<matplotlib.figure.Figure at 0x174ba7b8>"
      ]
     },
     "metadata": {},
     "output_type": "display_data"
    }
   ],
   "source": [
    "plt.hist(total_lessons_pass_completed.values())"
   ]
  },
  {
   "cell_type": "code",
   "execution_count": 62,
   "metadata": {
    "collapsed": false
   },
   "outputs": [
    {
     "data": {
      "text/plain": [
       "(array([ 317.,   17.,    6.,    4.,    1.,    1.,    0.,    1.,    0.,    1.]),\n",
       " array([  0. ,   2.7,   5.4,   8.1,  10.8,  13.5,  16.2,  18.9,  21.6,\n",
       "         24.3,  27. ]),\n",
       " <a list of 10 Patch objects>)"
      ]
     },
     "execution_count": 62,
     "metadata": {},
     "output_type": "execute_result"
    },
    {
     "data": {
      "image/png": "[encoded data removed]",
      "text/plain": [
       "<matplotlib.figure.Figure at 0x1779a588>"
      ]
     },
     "metadata": {},
     "output_type": "display_data"
    }
   ],
   "source": [
    "plt.hist(total_lessons_non_pass_completed.values())"
   ]
  },
  {
   "cell_type": "code",
   "execution_count": 63,
   "metadata": {
    "collapsed": false
   },
   "outputs": [
    {
     "data": {
      "text/plain": [
       "(array([ 642.,    0.,    0.,    0.,    0.,    4.,    0.,    0.,    0.,    1.]),\n",
       " array([ 0. ,  0.2,  0.4,  0.6,  0.8,  1. ,  1.2,  1.4,  1.6,  1.8,  2. ]),\n",
       " <a list of 10 Patch objects>)"
      ]
     },
     "execution_count": 63,
     "metadata": {},
     "output_type": "execute_result"
    },
    {
     "data": {
      "image/png": "[encoded data removed]",
      "text/plain": [
       "<matplotlib.figure.Figure at 0x179cf3c8>"
      ]
     },
     "metadata": {},
     "output_type": "display_data"
    }
   ],
   "source": [
    "plt.hist(total_projects_pass_completed.values())"
   ]
  },
  {
   "cell_type": "code",
   "execution_count": 64,
   "metadata": {
    "collapsed": false
   },
   "outputs": [
    {
     "data": {
      "text/plain": [
       "(array([   0.,    0.,    0.,    0.,    0.,  348.,    0.,    0.,    0.,    0.]),\n",
       " array([-0.5, -0.4, -0.3, -0.2, -0.1,  0. ,  0.1,  0.2,  0.3,  0.4,  0.5]),\n",
       " <a list of 10 Patch objects>)"
      ]
     },
     "execution_count": 64,
     "metadata": {},
     "output_type": "execute_result"
    },
    {
     "data": {
      "image/png": "[encoded data removed]",
      "text/plain": [
       "<matplotlib.figure.Figure at 0x17856a20>"
      ]
     },
     "metadata": {},
     "output_type": "display_data"
    }
   ],
   "source": [
    "plt.hist(total_projects_non_pass_completed.values())"
   ]
  },
  {
   "cell_type": "code",
   "execution_count": 65,
   "metadata": {
    "collapsed": false
   },
   "outputs": [
    {
     "data": {
      "text/plain": [
       "(array([ 370.,  155.,   83.,   19.,   10.,    4.,    2.,    3.,    0.,    1.]),\n",
       " array([    0.        ,   356.47332645,   712.9466529 ,  1069.41997935,\n",
       "         1425.8933058 ,  1782.36663225,  2138.8399587 ,  2495.31328515,\n",
       "         2851.7866116 ,  3208.25993805,  3564.7332645 ]),\n",
       " <a list of 10 Patch objects>)"
      ]
     },
     "execution_count": 65,
     "metadata": {},
     "output_type": "execute_result"
    },
    {
     "data": {
      "image/png": "[encoded data removed]",
      "text/plain": [
       "<matplotlib.figure.Figure at 0x17e84cc0>"
      ]
     },
     "metadata": {},
     "output_type": "display_data"
    }
   ],
   "source": [
    "plt.hist(total_passing_minutes.values())"
   ]
  },
  {
   "cell_type": "code",
   "execution_count": 66,
   "metadata": {
    "collapsed": false
   },
   "outputs": [
    {
     "data": {
      "text/plain": [
       "(array([ 272.,   34.,   17.,    9.,    6.,    2.,    1.,    5.,    0.,    2.]),\n",
       " array([    0.        ,   176.85227493,   353.70454987,   530.5568248 ,\n",
       "          707.40909973,   884.26137467,  1061.1136496 ,  1237.96592453,\n",
       "         1414.81819947,  1591.6704744 ,  1768.52274933]),\n",
       " <a list of 10 Patch objects>)"
      ]
     },
     "execution_count": 66,
     "metadata": {},
     "output_type": "execute_result"
    },
    {
     "data": {
      "image/png": "[encoded data removed]",
      "text/plain": [
       "<matplotlib.figure.Figure at 0x18137f28>"
      ]
     },
     "metadata": {},
     "output_type": "display_data"
    }
   ],
   "source": [
    "plt.hist(total_non_passing_minutes.values())"
   ]
  },
  {
   "cell_type": "markdown",
   "metadata": {},
   "source": [
    "## Improving Plots and Sharing Findings"
   ]
  },
  {
   "cell_type": "code",
   "execution_count": null,
   "metadata": {
    "collapsed": true
   },
   "outputs": [],
   "source": [
    "######################################\n",
    "#                 14                 #\n",
    "######################################\n",
    "\n",
    "## Make a more polished version of at least one of your visualizations\n",
    "## from earlier. Try importing the seaborn library to make the visualization\n",
    "## look better, adding axis labels and a title, and changing one or more\n",
    "## arguments to the hist() function."
   ]
  }
 ],
 "metadata": {
  "kernelspec": {
   "display_name": "Python 2",
   "language": "python",
   "name": "python2"
  },
  "language_info": {
   "codemirror_mode": {
    "name": "ipython",
    "version": 2
   },
   "file_extension": ".py",
   "mimetype": "text/x-python",
   "name": "python",
   "nbconvert_exporter": "python",
   "pygments_lexer": "ipython2",
   "version": "2.7.11"
  }
 },
 "nbformat": 4,
 "nbformat_minor": 0
}
